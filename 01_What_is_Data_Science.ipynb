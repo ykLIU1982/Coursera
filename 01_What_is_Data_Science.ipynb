{
 "cells": [
  {
   "cell_type": "markdown",
   "metadata": {},
   "source": [
    "# What is Data Science?"
   ]
  },
  {
   "cell_type": "markdown",
   "metadata": {},
   "source": [
    "## Week 1 Defining Data Science and What Data Scientists Do\n",
    "\n",
    "In this module, you will go over the course syllabus to learn what will be taught in this course. Also, you will hear from data science professionals to learn what data science is, what data scientists do, and what tools and algorithms data scientists use on a daily basis. Finally, you will be required to complete a reading assignment to learn why data science is considered the sexiest job in the 21st century.\n",
    "\n",
    "### Learning Objectives\n",
    "* Go over the course syllabus to learn what will be taught in this course.\n",
    "* Hear from data science professionals to learn what data science is.\n",
    "* Learn about the many paths to data science.\n",
    "* Hear from data science professionals as they give advice to anyone who is passionate about data science.\n",
    "* Learn some statistics about the field of data science, the demand for data scientists, and some of the qualities of excelling  data scientists.\n",
    "* Hear from data scientists as they share with you what a typical day in the life of a data scientist looks like.\n",
    "* Hear from data scientists as they share with you what tools, algorithms, and technologies they use on a daily basis.\n",
    "* Hear from data scientists as they try to explain the term \"cloud\".\n",
    "* Learn why data science is considered the sexiest job in the 21st century.\n",
    "* Learn about data science, data scientists, and how each is defined.\n",
    "\n",
    "### Defining Data Science\n",
    "* Video: What is Data Science? (w1_01)\n",
    "* Video: The Many Paths to Data Science (w1_02)\n",
    "* Video: Advice for New Data Scientists (w1_02)\n",
    "* Reading: Datascience_Orientation_Defining_Data_Science_Reading.pdf\n",
    "\n",
    "### What Do Data Scientists Do?\n",
    "* Video: A day in the Life of a Data Scientist (w1_01)\n",
    "* Video: Data Science Topics and Algorithms (w1_02)\n",
    "* Video: What is the cloud? (w1_02)\n",
    "* Reading: Datascience_Orientation_What_Do_Data_Scientists_Do_Reading.pdf\n",
    "\n"
   ]
  },
  {
   "cell_type": "markdown",
   "metadata": {},
   "source": [
    "## Week 2 Data Science Topics\n",
    "\n",
    "In this module, you will hear from Norman White, the Faculty Director of the Stern Centre for Research Computing, at New York University, as he talks about data science and what skills are required for anyone interested in pursuing a career in this field and as he gives advice to those who are looking to start a career in data science. Finally, you will be required to complete reading assignments to learn about the process of mining a given dataset and about regression analysis.\n",
    "\n",
    "### Learning Objectives\n",
    "* Hear from Norman White, the Faculty Director of the Stern Centre for Research Computing, at New York University.\n",
    "* Hear from Norman White as he talks about data science and what skills are required for anyone interested in pursuing a career in this field.\n",
    "* Hear from Norman White as he explains some of the popular data science tools and algorithms.\n",
    "* Hear from Norman White as he gives advice to high schools students, in particular, and anyone, in general, who are looking to start a career in data science.\n",
    "* Learn about data mining, and the steps the comprise the process of mining a given dataset.\n",
    "* Learn about regression and what questions can be put to regression analysis.\n",
    "\n",
    "### Big Data and Data Mining\n",
    "* Video: Data Science Skills & Big Data (w1_01)\n",
    "* Video: Data Scientists at New York University (w1_02)\n",
    "* Video: What is Hadoop? (w1_02)\n",
    "* Reading: Datascience_Orientation_Interview_with_Norman_White_Reading.pdf\n",
    "\n",
    "### Deep Learning and Machine Learning\n",
    "* Video: Neural Networks and Deep Learning (w1_01)\n",
    "* Video: How Can Someone Become a Data Scientist? (w1_02)\n",
    "* Video: High School Students and Data Science Careers (w1_02)\n",
    "* Video: Applications of Machine Learning (w1_02)\n",
    "* Reading: Datascience_Orientation_Data_Science_in_Business_Reading.pdf"
   ]
  },
  {
   "cell_type": "markdown",
   "metadata": {},
   "source": [
    "## Week 3 Data Science in Business\n",
    "\n",
    "In this module, you will learn about what companies need to do in order to start with data science. You will also learn about some of the qualities that differentiate data scientists from other professionals. In addition, you will learn about analytics and what important role data scientists play in this process, and about story-telling and the importance of an effective final deliverable. Finally, you will be required to apply what you learned about data science by answering open-ended questions.\n",
    "\n",
    "### Learning Objectives\n",
    "* Learn about what companies need to do in order to start with data science.\n",
    "* Learn about some of the qualities that differentiate data scientists from other professionals.\n",
    "* Learn about some applications of data science.\n",
    "* Learn about analytics and what important role data scientists play in this process.\n",
    "* Learn about story-telling and the importance of an effective final deliverable.\n",
    "* Learn about the main components of an effective final deliverable.\n",
    "* Apply what you learned about data science to answer open-ended questions.\n",
    "* Demonstrate your understanding of the readings to define what data science and data scientist mean.\n",
    "* Demonstrate your understanding of the readings to answer a question about the final deliverable of data science project.\n",
    "\n",
    "### Applications of Data Science and Recruiting Data Scientists\n",
    "* Video: How Should Companies Get Started in Data Science? (w1_01)\n",
    "* Video: Recruiting for Data Science (w1_02)\n",
    "* Video: Applications of Data Science (w1_02)\n",
    "* Reading: The Final Deliverable: Datascience_Orientation_Use_Cases_for_Data_Science_Reading_1.pdf\n",
    "\n",
    "### The Report Structure\n",
    "* Reading: The Report Structure: Datascience_Orientation_Use_Cases_for_Data_Science_Reading_2.pdf\n",
    "\n",
    "\n",
    "### Final Assignment\n",
    "\n"
   ]
  },
  {
   "cell_type": "code",
   "execution_count": null,
   "metadata": {},
   "outputs": [],
   "source": []
  }
 ],
 "metadata": {
  "kernelspec": {
   "display_name": "Python 3",
   "language": "python",
   "name": "python3"
  },
  "language_info": {
   "codemirror_mode": {
    "name": "ipython",
    "version": 3
   },
   "file_extension": ".py",
   "mimetype": "text/x-python",
   "name": "python",
   "nbconvert_exporter": "python",
   "pygments_lexer": "ipython3",
   "version": "3.6.6"
  }
 },
 "nbformat": 4,
 "nbformat_minor": 2
}
