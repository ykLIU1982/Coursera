{
 "cells": [
  {
   "cell_type": "markdown",
   "metadata": {},
   "source": [
    "# Machine Learning with Python"
   ]
  },
  {
   "cell_type": "markdown",
   "metadata": {},
   "source": [
    "## Week 1 Introduction to Machine Learning\n",
    "\n",
    "In this week, you will learn about applications of Machine Learning in different fields such as health care, banking, telecommunication, and so on. You’ll get a general overview of Machine Learning topics such as supervised vs unsupervised learning, and the usage of each algorithm. Also, you understand the advantage of using Python libraries for implementing Machine Learning models.\n",
    "\n",
    "### Learning Objectives\n",
    "* To give examples of Machine Learning\n",
    "* To demonstrate the Python libraries for Machine Learning\n",
    "* To classify Supervised vs. Unsupervised algorithms\n",
    "\n",
    "\n",
    "* Video: Welcome (w1_00)\n",
    "* Video: Introduction to Machine Learning (w1_01)\n",
    "* Video: Python for Machine Learning (w1_02)\n",
    "* Video: Supervised vs Unsupervised (w1_03)"
   ]
  },
  {
   "cell_type": "markdown",
   "metadata": {},
   "source": [
    "## Week 2 Regression\n",
    "\n",
    "In this week, you will get a brief intro to regression. You learn about Linear, Non-linear, Simple and Multiple regression, and their applications. You apply all these methods on two different datasets, in the lab part. Also, you learn how to evaluate your regression model, and calculate its accuracy.\n",
    "\n",
    "### Learning Objectives\n",
    "\n",
    "* To underestand the basics of regression\n",
    "* To apply Simple and Multiple, Linear and Non-Linear Regression on a dataset for estimation.\n",
    "\n",
    "#### Linear Regression\n",
    "\n",
    "* Video: Introduction to Regression (w2_01)\n",
    "* Video: Simple Linear Regression (w2_02)\n",
    "* Video: Model Evaluation in Regression Models (w2_03)\n",
    "* Video: Evaluation Metrics in Regression Models (w2_04)\n",
    "* Lab: \n",
    "* Video: Multiple Linear Regression (w2_05)\n",
    "* Lab:\n",
    "\n",
    "#### Non-Linear Regression\n",
    "\n",
    "* Video: Non-Linear Regression (w2_06)\n",
    "* Lab: \n",
    "* Lab:\n"
   ]
  },
  {
   "cell_type": "markdown",
   "metadata": {},
   "source": [
    "## Week 3 Classification\n",
    "\n",
    "In this week, you will learn about classification technique. You practice with different classification algorithms, such as KNN, Decision Trees, Logistic Regression and SVM. Also, you learn about pros and cons of each method, and different classification accuracy metrics.\n",
    "\n",
    "### Learning Objectives\n",
    "\n",
    "* To underestand different Classification methods.\n",
    "* To apply Classification algorithms on various datasets to solve real world problems.\n",
    "* To underestand evaluation methods in Classification.\n",
    "\n",
    "#### K-Nearest Neighbours\n",
    "\n",
    "* Video: Introduction to Classification (w3_01)\n",
    "* Video: K-Nearest Neighbours (w3_02)\n",
    "* Video: Evaluation Metrics in Classification (w3_03)\n",
    "* Lab: KNN\n",
    "\n",
    "#### Decision Trees\n",
    "\n",
    "* Video: Introduction to Decision Trees (w3_04)\n",
    "* Video: Building Decision Trees (w3_05)\n",
    "* Lab: \n",
    "\n",
    "#### Logistic Regression\n",
    "\n",
    "* Video: Introduction to Logistic Regression (w3_06)\n",
    "* Video: Logistic Regression vs Linear Regression (w3_07)\n",
    "* Video: Logistic Regression Training (w3_08)\n",
    "* Lab: \n",
    "\n",
    "#### Support Vector Machine\n",
    "\n",
    "* Video: Support Vector Machine (w3_09)\n",
    "* Lab: \n"
   ]
  },
  {
   "cell_type": "markdown",
   "metadata": {},
   "source": [
    "## Week 4 Clustering\n",
    "\n",
    "In this section, you will learn about different clustering approaches. You learn how to use clustering for customer segmentation, grouping same vehicles, and also clustering of weather stations. You understand 3 main types of clustering, including Partitioned-based Clustering, Hierarchical Clustering, and Density-based Clustering.\n",
    "\n",
    "### Learning Objectives\n",
    "\n",
    "* To underestand different types of clustering algorithms.\n",
    "* To apply clustering on different types of datasests.\n",
    "\n",
    "#### k-Means Clustering\n",
    "\n",
    "* Video: Introduction to Clustering (w4_01)\n",
    "* Video: Introduction to k-Means Clustering (w4_02)\n",
    "* Video: More on k-Means Clustering (w4_03)\n",
    "* Lab: \n",
    "\n",
    "#### Hierarchical Clustering\n",
    "\n",
    "* Video: Introduction to Hierarchical Clustering (w4_04)\n",
    "* Video: Building Decision Trees (w4_05)\n",
    "* Lab: \n",
    "\n",
    "#### Density-based Clustering\n",
    "\n",
    "* Video: DBSCAN (w4_06)\n",
    "* Lab: \n"
   ]
  },
  {
   "cell_type": "markdown",
   "metadata": {},
   "source": [
    "## Week 5 Recommender Systems\n",
    "\n",
    "In this module, you will learn about recommender systems. First, you will get introduced with main idea behind recommendation engines, then you understand two main types of recommendation engines, namely, content-based and collaborative filtering.\n",
    "\n",
    "### Learning Objectives\n",
    "\n",
    "* To understand the purpuse and mechanizem of recommendation systems.\n",
    "* To understand different types of recommander systems.\n",
    "* To implmenet recommender system on a real dataset.\n",
    "\n",
    "#### Content-based Recommendation Engines\n",
    "\n",
    "* Video: Intro to Recommender Systems (w5_01)\n",
    "* Video: Content-based Recommender Systems (w5_02)\n",
    "* Lab:\n",
    "* Video: Collaborative Filtering (w5_03)\n",
    "* Lab: \n",
    "\n"
   ]
  },
  {
   "cell_type": "markdown",
   "metadata": {},
   "source": [
    "## Week 6 Final Project\n",
    "\n",
    "In this module, you will do a project based of what you have learned so far. You will submit a report of your project for peer evaluation.\n",
    "\n",
    "### Learning Objectives\n",
    "\n",
    "* The Machine Learning knowledge on a problem.\n",
    "* Submit a link to your project notebook and a complete project report.\n",
    "\n",
    "#### Final project\n",
    "\n",
    "* Reading: How to\n",
    "* Assignment: The best classifier"
   ]
  },
  {
   "cell_type": "code",
   "execution_count": null,
   "metadata": {},
   "outputs": [],
   "source": []
  }
 ],
 "metadata": {
  "kernelspec": {
   "display_name": "Python 3",
   "language": "python",
   "name": "python3"
  },
  "language_info": {
   "codemirror_mode": {
    "name": "ipython",
    "version": 3
   },
   "file_extension": ".py",
   "mimetype": "text/x-python",
   "name": "python",
   "nbconvert_exporter": "python",
   "pygments_lexer": "ipython3",
   "version": "3.6.6"
  }
 },
 "nbformat": 4,
 "nbformat_minor": 2
}
