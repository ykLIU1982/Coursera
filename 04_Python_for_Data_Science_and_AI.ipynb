{
 "cells": [
  {
   "cell_type": "markdown",
   "metadata": {},
   "source": [
    "# Python for Data Science and AI"
   ]
  },
  {
   "cell_type": "markdown",
   "metadata": {},
   "source": [
    "## Week 1 Python Basics\n",
    "\n",
    "This introduction to Python will kickstart your learning of Python for data science, as well as programming in general. This beginner-friendly Python course will take you from zero to programming in Python in a matter of hours.\n",
    "\n",
    "Upon its completion, you'll be able to write your own Python scripts and perform basic hands-on data analysis using our Jupyter-based lab environment. If you want to learn Python from scratch, this course is for you This course will not teach you everything about Python, but is should give you the tools to work as a data scientist and enough knowledge to continue to expand your Python learning. The final project you will load data and learn a new Python Library on your own.\n",
    "\n",
    "### Learning Objectives\n",
    "* Types\n",
    "* Expressions and Variables\n",
    "* String Operations\n",
    "\n",
    "* Video: Types (w1_01)\n",
    "* Video: Expressions and Variables (w1_02)\n",
    "* Lab: Types, Expressions and Variables\n",
    "* Video: String Operations (w1_03)\n",
    "* Lab: String Operations\n"
   ]
  },
  {
   "cell_type": "markdown",
   "metadata": {},
   "source": [
    "## Week 2 Python Data Structures\n",
    "\n",
    "\n",
    "### Learning Objectives\n",
    "* Tuples and List\n",
    "* Dictionaries\n",
    "* Sets\n",
    "\n",
    "\n",
    "\n",
    "* Video: Tuples and List (w2_01)\n",
    "* Lab: Tuples\n",
    "* Lab: Lists\n",
    "* Video: Dictionaries (w2_02)\n",
    "* Lab: Dictionaries\n",
    "* Video: Sets (w2_03)\n",
    "* Lab: Sets\n"
   ]
  },
  {
   "cell_type": "markdown",
   "metadata": {},
   "source": [
    "## Week 3 Python Programming Fundamentals\n",
    "\n",
    "### Learning Objectives\n",
    "* Conditions and Branching\n",
    "* Loops\n",
    "* String Operations\n",
    "* Objects and Classes\n",
    "\n",
    "\n",
    "* Video: Conditions and Branching (w3_01)\n",
    "* Lab: Conditions and Branching\n",
    "* Video: Loops (w3_02)\n",
    "* Lab: Loops\n",
    "* Video: Functions (w3_03)\n",
    "* Lab: Functions\n",
    "* Video: Objects and Classes (w3_04)\n",
    "* Lab: Objects and Classes\n",
    "\n"
   ]
  },
  {
   "cell_type": "markdown",
   "metadata": {},
   "source": [
    "## Week 4 Working with Data in Python\n",
    "\n",
    "### Learning Objectives\n",
    "* Reading files using the open function\n",
    "* Working with data using Pandas\n",
    "* Writing files using the open function\n",
    "* numpy\n",
    "\n",
    "\n",
    "* Video: Reading Files with Open (w4_01)\n",
    "* Lab: Reading Files with Open\n",
    "* Video: Writing Files with Open (w4_02)\n",
    "* Lab: Writing Files with Open\n",
    "* Video: Loading Data with Pandas (w4_03)\n",
    "* Video: Pandas: Working with and Saving Data (w4_04)\n",
    "* Lab: Pandas with IBM Watson Studio\n",
    "* Video: One Dimensional Numpy (w4_05)\n",
    "* Lab: One Dimensional Numpy\n",
    "* Video: Two Dimensional Numpy (w4_06)\n",
    "* Lab: Two Dimensional Numpy\n",
    "\n"
   ]
  },
  {
   "cell_type": "markdown",
   "metadata": {},
   "source": [
    "## Week 5 Analyzing US Economic Data and Building a Dashboard\n",
    "\n",
    "### Learning Objectives\n",
    "* web scraping\n",
    "\n",
    "#### Analyzing US Economic Data and Building a Dashboard\n",
    "\n",
    "* Reading: Overview\n",
    "* Reading: Setup IBM Object Storage\n",
    "* Reading: Watson Studio setup\n",
    "* Assignment\n",
    "\n"
   ]
  }
 ],
 "metadata": {
  "kernelspec": {
   "display_name": "Python 3",
   "language": "python",
   "name": "python3"
  },
  "language_info": {
   "codemirror_mode": {
    "name": "ipython",
    "version": 3
   },
   "file_extension": ".py",
   "mimetype": "text/x-python",
   "name": "python",
   "nbconvert_exporter": "python",
   "pygments_lexer": "ipython3",
   "version": "3.6.6"
  }
 },
 "nbformat": 4,
 "nbformat_minor": 2
}
