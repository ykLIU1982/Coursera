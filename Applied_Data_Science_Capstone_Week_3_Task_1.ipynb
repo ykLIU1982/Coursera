{
 "cells": [
  {
   "cell_type": "markdown",
   "metadata": {},
   "source": [
    "# Coursera Data Science Capstone - Week 3 Assignment\n",
    "Developed by: Yongkang Liu  \n",
    "Created on November 4, 2019.  \n",
    "Updated on November 4, 2019."
   ]
  },
  {
   "cell_type": "markdown",
   "metadata": {},
   "source": [
    "<a name=\"toc\"></a>\n",
    "# Table of contents\n",
    "\n",
    "1. [Task 1. Web Scraping](#Q1)\n",
    "\n",
    "1. [Task 2. Obtain Latitude and Longitude information](#Q2)\n",
    "\n",
    "1. [Task 3. Explore and Cluster the neighbourhoods in Toronto](#Q3)\n"
   ]
  },
  {
   "cell_type": "markdown",
   "metadata": {},
   "source": [
    "<a name=\"Q1\"></a>\n",
    "## 1. Web Scraping using Beautiful Soup\n",
    "[Back to ToC](#toc)\n",
    "\n",
    "Question: Use the Notebook to build the code to scrape the following Wikipedia page, https://en.wikipedia.org/wiki/List_of_postal_codes_of_Canada:_M, in order to obtain the data that is in the table of postal codes and to transform the data into a pandas dataframe\n"
   ]
  },
  {
   "cell_type": "markdown",
   "metadata": {},
   "source": [
    "### 1.1. Obtaining HTML document data"
   ]
  },
  {
   "cell_type": "markdown",
   "metadata": {},
   "source": [
    "*Reference: [Beautiful Soup Document](https://beautiful-soup-4.readthedocs.io/en/latest/)\n",
    "\n",
    "Beautiful Soup is a Python library for pulling data out of HTML and XML files. The latest version is 4 on the date of November 4, 2019, which works for Python 2.7 and Python 3.2."
   ]
  },
  {
   "cell_type": "code",
   "execution_count": 141,
   "metadata": {},
   "outputs": [],
   "source": [
    "# import modules\n",
    "from bs4 import BeautifulSoup\n",
    "import requests     # an HTTP client to get the document behind a URL as Beautiful Soup expects a document instead of a URL\n",
    "#import lxml\n"
   ]
  },
  {
   "cell_type": "code",
   "execution_count": 142,
   "metadata": {},
   "outputs": [],
   "source": [
    "# Obtain the HTML document from the URL\n",
    "url = \"https://en.wikipedia.org/wiki/List_of_postal_codes_of_Canada:_M\"\n",
    "r = requests.get(url)\n",
    "data = r.text"
   ]
  },
  {
   "cell_type": "code",
   "execution_count": 143,
   "metadata": {},
   "outputs": [],
   "source": [
    "# Parser the data\n",
    "soup = BeautifulSoup(data)\n",
    "# Find the target table\n",
    "table = soup.find('table', {'class': 'wikitable sortable'})\n",
    "#table"
   ]
  },
  {
   "cell_type": "code",
   "execution_count": 144,
   "metadata": {},
   "outputs": [
    {
     "name": "stdout",
     "output_type": "stream",
     "text": [
      "Got table_rows, type: <class 'bs4.element.ResultSet'>, size: 289\n"
     ]
    }
   ],
   "source": [
    "# Find all rows in the table\n",
    "table_rows = table.find_all('tr')   # 'tr' is the table row tag in html\n",
    "print(f\"Got table_rows, type: {type(table_rows)}, size: {len(table_rows)}\")"
   ]
  },
  {
   "cell_type": "code",
   "execution_count": 145,
   "metadata": {},
   "outputs": [
    {
     "name": "stdout",
     "output_type": "stream",
     "text": [
      "Check the first row: <tr>\n",
      "<th>Postcode</th>\n",
      "<th>Borough</th>\n",
      "<th>Neighbourhood\n",
      "</th></tr>\n"
     ]
    }
   ],
   "source": [
    "# Find the headline\n",
    "print(f'Check the first row: {table_rows[0]}')"
   ]
  },
  {
   "cell_type": "code",
   "execution_count": 146,
   "metadata": {},
   "outputs": [
    {
     "name": "stdout",
     "output_type": "stream",
     "text": [
      "The headline is ['Postcode', 'Borough', 'Neighbourhood']\n"
     ]
    }
   ],
   "source": [
    "# extract columns\n",
    "columns = [th.text.strip('\\n') for th in table_rows[0].find_all('th')]  # 'th' is the table header tag\n",
    "print(f'The headline is {columns}')"
   ]
  },
  {
   "cell_type": "code",
   "execution_count": 147,
   "metadata": {},
   "outputs": [
    {
     "name": "stdout",
     "output_type": "stream",
     "text": [
      "Row 1: ['M1A', 'Not assigned', 'Not assigned']\n",
      "Row 2: ['M2A', 'Not assigned', 'Not assigned']\n",
      "Row 3: ['M3A', 'North York', 'Parkwoods']\n",
      "Row 4: ['M4A', 'North York', 'Victoria Village']\n",
      "Row 5: ['M5A', 'Downtown Toronto', 'Harbourfront']\n",
      "Row 6: ['M5A', 'Downtown Toronto', 'Regent Park']\n",
      "Row 7: ['M6A', 'North York', 'Lawrence Heights']\n",
      "Row 8: ['M6A', 'North York', 'Lawrence Manor']\n",
      "Row 9: ['M7A', \"Queen's Park\", 'Not assigned']\n",
      "Row 10: ['M8A', 'Not assigned', 'Not assigned']\n",
      "Row 11: ['M9A', 'Etobicoke', 'Islington Avenue']\n",
      "Row 12: ['M1B', 'Scarborough', 'Rouge']\n",
      "Row 13: ['M1B', 'Scarborough', 'Malvern']\n",
      "Row 14: ['M2B', 'Not assigned', 'Not assigned']\n",
      "Row 15: ['M3B', 'North York', 'Don Mills North']\n",
      "Row 16: ['M4B', 'East York', 'Woodbine Gardens']\n",
      "Row 17: ['M4B', 'East York', 'Parkview Hill']\n",
      "Row 18: ['M5B', 'Downtown Toronto', 'Ryerson']\n",
      "Row 19: ['M5B', 'Downtown Toronto', 'Garden District']\n",
      "Row 20: ['M6B', 'North York', 'Glencairn']\n",
      "Row 21: ['M7B', 'Not assigned', 'Not assigned']\n",
      "Row 22: ['M8B', 'Not assigned', 'Not assigned']\n",
      "Row 23: ['M9B', 'Etobicoke', 'Cloverdale']\n",
      "Row 24: ['M9B', 'Etobicoke', 'Islington']\n",
      "Row 25: ['M9B', 'Etobicoke', 'Martin Grove']\n",
      "Row 26: ['M9B', 'Etobicoke', 'Princess Gardens']\n",
      "Row 27: ['M9B', 'Etobicoke', 'West Deane Park']\n",
      "Row 28: ['M1C', 'Scarborough', 'Highland Creek']\n",
      "Row 29: ['M1C', 'Scarborough', 'Rouge Hill']\n",
      "Row 30: ['M1C', 'Scarborough', 'Port Union']\n",
      "Row 31: ['M2C', 'Not assigned', 'Not assigned']\n",
      "Row 32: ['M3C', 'North York', 'Flemingdon Park']\n",
      "Row 33: ['M3C', 'North York', 'Don Mills South']\n",
      "Row 34: ['M4C', 'East York', 'Woodbine Heights']\n",
      "Row 35: ['M5C', 'Downtown Toronto', 'St. James Town']\n",
      "Row 36: ['M6C', 'York', 'Humewood-Cedarvale']\n",
      "Row 37: ['M7C', 'Not assigned', 'Not assigned']\n",
      "Row 38: ['M8C', 'Not assigned', 'Not assigned']\n",
      "Row 39: ['M9C', 'Etobicoke', 'Bloordale Gardens']\n",
      "Row 40: ['M9C', 'Etobicoke', 'Eringate']\n",
      "Row 41: ['M9C', 'Etobicoke', 'Markland Wood']\n",
      "Row 42: ['M9C', 'Etobicoke', 'Old Burnhamthorpe']\n",
      "Row 43: ['M1E', 'Scarborough', 'Guildwood']\n",
      "Row 44: ['M1E', 'Scarborough', 'Morningside']\n",
      "Row 45: ['M1E', 'Scarborough', 'West Hill']\n",
      "Row 46: ['M2E', 'Not assigned', 'Not assigned']\n",
      "Row 47: ['M3E', 'Not assigned', 'Not assigned']\n",
      "Row 48: ['M4E', 'East Toronto', 'The Beaches']\n",
      "Row 49: ['M5E', 'Downtown Toronto', 'Berczy Park']\n",
      "Row 50: ['M6E', 'York', 'Caledonia-Fairbanks']\n",
      "Row 51: ['M7E', 'Not assigned', 'Not assigned']\n",
      "Row 52: ['M8E', 'Not assigned', 'Not assigned']\n",
      "Row 53: ['M9E', 'Not assigned', 'Not assigned']\n",
      "Row 54: ['M1G', 'Scarborough', 'Woburn']\n",
      "Row 55: ['M2G', 'Not assigned', 'Not assigned']\n",
      "Row 56: ['M3G', 'Not assigned', 'Not assigned']\n",
      "Row 57: ['M4G', 'East York', 'Leaside']\n",
      "Row 58: ['M5G', 'Downtown Toronto', 'Central Bay Street']\n",
      "Row 59: ['M6G', 'Downtown Toronto', 'Christie']\n",
      "Row 60: ['M7G', 'Not assigned', 'Not assigned']\n",
      "Row 61: ['M8G', 'Not assigned', 'Not assigned']\n",
      "Row 62: ['M9G', 'Not assigned', 'Not assigned']\n",
      "Row 63: ['M1H', 'Scarborough', 'Cedarbrae']\n",
      "Row 64: ['M2H', 'North York', 'Hillcrest Village']\n",
      "Row 65: ['M3H', 'North York', 'Bathurst Manor']\n",
      "Row 66: ['M3H', 'North York', 'Downsview North']\n",
      "Row 67: ['M3H', 'North York', 'Wilson Heights']\n",
      "Row 68: ['M4H', 'East York', 'Thorncliffe Park']\n",
      "Row 69: ['M5H', 'Downtown Toronto', 'Adelaide']\n",
      "Row 70: ['M5H', 'Downtown Toronto', 'King']\n",
      "Row 71: ['M5H', 'Downtown Toronto', 'Richmond']\n",
      "Row 72: ['M6H', 'West Toronto', 'Dovercourt Village']\n",
      "Row 73: ['M6H', 'West Toronto', 'Dufferin']\n",
      "Row 74: ['M7H', 'Not assigned', 'Not assigned']\n",
      "Row 75: ['M8H', 'Not assigned', 'Not assigned']\n",
      "Row 76: ['M9H', 'Not assigned', 'Not assigned']\n",
      "Row 77: ['M1J', 'Scarborough', 'Scarborough Village']\n",
      "Row 78: ['M2J', 'North York', 'Fairview']\n",
      "Row 79: ['M2J', 'North York', 'Henry Farm']\n",
      "Row 80: ['M2J', 'North York', 'Oriole']\n",
      "Row 81: ['M3J', 'North York', 'Northwood Park']\n",
      "Row 82: ['M3J', 'North York', 'York University']\n",
      "Row 83: ['M4J', 'East York', 'East Toronto']\n",
      "Row 84: ['M5J', 'Downtown Toronto', 'Harbourfront East']\n",
      "Row 85: ['M5J', 'Downtown Toronto', 'Toronto Islands']\n",
      "Row 86: ['M5J', 'Downtown Toronto', 'Union Station']\n",
      "Row 87: ['M6J', 'West Toronto', 'Little Portugal']\n",
      "Row 88: ['M6J', 'West Toronto', 'Trinity']\n",
      "Row 89: ['M7J', 'Not assigned', 'Not assigned']\n",
      "Row 90: ['M8J', 'Not assigned', 'Not assigned']\n",
      "Row 91: ['M9J', 'Not assigned', 'Not assigned']\n",
      "Row 92: ['M1K', 'Scarborough', 'East Birchmount Park']\n",
      "Row 93: ['M1K', 'Scarborough', 'Ionview']\n",
      "Row 94: ['M1K', 'Scarborough', 'Kennedy Park']\n",
      "Row 95: ['M2K', 'North York', 'Bayview Village']\n",
      "Row 96: ['M3K', 'North York', 'CFB Toronto']\n",
      "Row 97: ['M3K', 'North York', 'Downsview East']\n",
      "Row 98: ['M4K', 'East Toronto', 'The Danforth West']\n",
      "Row 99: ['M4K', 'East Toronto', 'Riverdale']\n",
      "Row 100: ['M5K', 'Downtown Toronto', 'Design Exchange']\n",
      "Row 101: ['M5K', 'Downtown Toronto', 'Toronto Dominion Centre']\n",
      "Row 102: ['M6K', 'West Toronto', 'Brockton']\n",
      "Row 103: ['M6K', 'West Toronto', 'Exhibition Place']\n",
      "Row 104: ['M6K', 'West Toronto', 'Parkdale Village']\n",
      "Row 105: ['M7K', 'Not assigned', 'Not assigned']\n",
      "Row 106: ['M8K', 'Not assigned', 'Not assigned']\n",
      "Row 107: ['M9K', 'Not assigned', 'Not assigned']\n",
      "Row 108: ['M1L', 'Scarborough', 'Clairlea']\n",
      "Row 109: ['M1L', 'Scarborough', 'Golden Mile']\n",
      "Row 110: ['M1L', 'Scarborough', 'Oakridge']\n",
      "Row 111: ['M2L', 'North York', 'Silver Hills']\n",
      "Row 112: ['M2L', 'North York', 'York Mills']\n",
      "Row 113: ['M3L', 'North York', 'Downsview West']\n",
      "Row 114: ['M4L', 'East Toronto', 'The Beaches West']\n",
      "Row 115: ['M4L', 'East Toronto', 'India Bazaar']\n",
      "Row 116: ['M5L', 'Downtown Toronto', 'Commerce Court']\n",
      "Row 117: ['M5L', 'Downtown Toronto', 'Victoria Hotel']\n",
      "Row 118: ['M6L', 'North York', 'Downsview']\n",
      "Row 119: ['M6L', 'North York', 'North Park']\n",
      "Row 120: ['M6L', 'North York', 'Upwood Park']\n",
      "Row 121: ['M7L', 'Not assigned', 'Not assigned']\n",
      "Row 122: ['M8L', 'Not assigned', 'Not assigned']\n",
      "Row 123: ['M9L', 'North York', 'Humber Summit']\n",
      "Row 124: ['M1M', 'Scarborough', 'Cliffcrest']\n",
      "Row 125: ['M1M', 'Scarborough', 'Cliffside']\n",
      "Row 126: ['M1M', 'Scarborough', 'Scarborough Village West']\n",
      "Row 127: ['M2M', 'North York', 'Newtonbrook']\n",
      "Row 128: ['M2M', 'North York', 'Willowdale']\n",
      "Row 129: ['M3M', 'North York', 'Downsview Central']\n",
      "Row 130: ['M4M', 'East Toronto', 'Studio District']\n",
      "Row 131: ['M5M', 'North York', 'Bedford Park']\n",
      "Row 132: ['M5M', 'North York', 'Lawrence Manor East']\n",
      "Row 133: ['M6M', 'York', 'Del Ray']\n",
      "Row 134: ['M6M', 'York', 'Keelesdale']\n",
      "Row 135: ['M6M', 'York', 'Mount Dennis']\n",
      "Row 136: ['M6M', 'York', 'Silverthorn']\n",
      "Row 137: ['M7M', 'Not assigned', 'Not assigned']\n",
      "Row 138: ['M8M', 'Not assigned', 'Not assigned']\n",
      "Row 139: ['M9M', 'North York', 'Emery']\n",
      "Row 140: ['M9M', 'North York', 'Humberlea']\n",
      "Row 141: ['M1N', 'Scarborough', 'Birch Cliff']\n",
      "Row 142: ['M1N', 'Scarborough', 'Cliffside West']\n",
      "Row 143: ['M2N', 'North York', 'Willowdale South']\n",
      "Row 144: ['M3N', 'North York', 'Downsview Northwest']\n",
      "Row 145: ['M4N', 'Central Toronto', 'Lawrence Park']\n",
      "Row 146: ['M5N', 'Central Toronto', 'Roselawn']\n",
      "Row 147: ['M6N', 'York', 'The Junction North']\n",
      "Row 148: ['M6N', 'York', 'Runnymede']\n",
      "Row 149: ['M7N', 'Not assigned', 'Not assigned']\n",
      "Row 150: ['M8N', 'Not assigned', 'Not assigned']\n",
      "Row 151: ['M9N', 'York', 'Weston']\n",
      "Row 152: ['M1P', 'Scarborough', 'Dorset Park']\n",
      "Row 153: ['M1P', 'Scarborough', 'Scarborough Town Centre']\n",
      "Row 154: ['M1P', 'Scarborough', 'Wexford Heights']\n",
      "Row 155: ['M2P', 'North York', 'York Mills West']\n",
      "Row 156: ['M3P', 'Not assigned', 'Not assigned']\n",
      "Row 157: ['M4P', 'Central Toronto', 'Davisville North']\n",
      "Row 158: ['M5P', 'Central Toronto', 'Forest Hill North']\n",
      "Row 159: ['M5P', 'Central Toronto', 'Forest Hill West']\n",
      "Row 160: ['M6P', 'West Toronto', 'High Park']\n",
      "Row 161: ['M6P', 'West Toronto', 'The Junction South']\n",
      "Row 162: ['M7P', 'Not assigned', 'Not assigned']\n",
      "Row 163: ['M8P', 'Not assigned', 'Not assigned']\n",
      "Row 164: ['M9P', 'Etobicoke', 'Westmount']\n",
      "Row 165: ['M1R', 'Scarborough', 'Maryvale']\n",
      "Row 166: ['M1R', 'Scarborough', 'Wexford']\n",
      "Row 167: ['M2R', 'North York', 'Willowdale West']\n",
      "Row 168: ['M3R', 'Not assigned', 'Not assigned']\n",
      "Row 169: ['M4R', 'Central Toronto', 'North Toronto West']\n",
      "Row 170: ['M5R', 'Central Toronto', 'The Annex']\n",
      "Row 171: ['M5R', 'Central Toronto', 'North Midtown']\n",
      "Row 172: ['M5R', 'Central Toronto', 'Yorkville']\n",
      "Row 173: ['M6R', 'West Toronto', 'Parkdale']\n",
      "Row 174: ['M6R', 'West Toronto', 'Roncesvalles']\n",
      "Row 175: ['M7R', 'Mississauga', 'Canada Post Gateway Processing Centre']\n",
      "Row 176: ['M8R', 'Not assigned', 'Not assigned']\n",
      "Row 177: ['M9R', 'Etobicoke', 'Kingsview Village']\n",
      "Row 178: ['M9R', 'Etobicoke', 'Martin Grove Gardens']\n",
      "Row 179: ['M9R', 'Etobicoke', 'Richview Gardens']\n",
      "Row 180: ['M9R', 'Etobicoke', 'St. Phillips']\n",
      "Row 181: ['M1S', 'Scarborough', 'Agincourt']\n",
      "Row 182: ['M2S', 'Not assigned', 'Not assigned']\n",
      "Row 183: ['M3S', 'Not assigned', 'Not assigned']\n",
      "Row 184: ['M4S', 'Central Toronto', 'Davisville']\n",
      "Row 185: ['M5S', 'Downtown Toronto', 'Harbord']\n",
      "Row 186: ['M5S', 'Downtown Toronto', 'University of Toronto']\n",
      "Row 187: ['M6S', 'West Toronto', 'Runnymede']\n",
      "Row 188: ['M6S', 'West Toronto', 'Swansea']\n",
      "Row 189: ['M7S', 'Not assigned', 'Not assigned']\n",
      "Row 190: ['M8S', 'Not assigned', 'Not assigned']\n",
      "Row 191: ['M9S', 'Not assigned', 'Not assigned']\n",
      "Row 192: ['M1T', 'Scarborough', 'Clarks Corners']\n",
      "Row 193: ['M1T', 'Scarborough', 'Sullivan']\n",
      "Row 194: ['M1T', 'Scarborough', \"Tam O'Shanter\"]\n",
      "Row 195: ['M2T', 'Not assigned', 'Not assigned']\n",
      "Row 196: ['M3T', 'Not assigned', 'Not assigned']\n",
      "Row 197: ['M4T', 'Central Toronto', 'Moore Park']\n",
      "Row 198: ['M4T', 'Central Toronto', 'Summerhill East']\n",
      "Row 199: ['M5T', 'Downtown Toronto', 'Chinatown']\n",
      "Row 200: ['M5T', 'Downtown Toronto', 'Grange Park']\n",
      "Row 201: ['M5T', 'Downtown Toronto', 'Kensington Market']\n",
      "Row 202: ['M6T', 'Not assigned', 'Not assigned']\n",
      "Row 203: ['M7T', 'Not assigned', 'Not assigned']\n",
      "Row 204: ['M8T', 'Not assigned', 'Not assigned']\n",
      "Row 205: ['M9T', 'Not assigned', 'Not assigned']\n",
      "Row 206: ['M1V', 'Scarborough', 'Agincourt North']\n",
      "Row 207: ['M1V', 'Scarborough', \"L'Amoreaux East\"]\n",
      "Row 208: ['M1V', 'Scarborough', 'Milliken']\n",
      "Row 209: ['M1V', 'Scarborough', 'Steeles East']\n",
      "Row 210: ['M2V', 'Not assigned', 'Not assigned']\n",
      "Row 211: ['M3V', 'Not assigned', 'Not assigned']\n",
      "Row 212: ['M4V', 'Central Toronto', 'Deer Park']\n",
      "Row 213: ['M4V', 'Central Toronto', 'Forest Hill SE']\n",
      "Row 214: ['M4V', 'Central Toronto', 'Rathnelly']\n",
      "Row 215: ['M4V', 'Central Toronto', 'South Hill']\n",
      "Row 216: ['M4V', 'Central Toronto', 'Summerhill West']\n",
      "Row 217: ['M5V', 'Downtown Toronto', 'CN Tower']\n",
      "Row 218: ['M5V', 'Downtown Toronto', 'Bathurst Quay']\n",
      "Row 219: ['M5V', 'Downtown Toronto', 'Island airport']\n",
      "Row 220: ['M5V', 'Downtown Toronto', 'Harbourfront West']\n",
      "Row 221: ['M5V', 'Downtown Toronto', 'King and Spadina']\n",
      "Row 222: ['M5V', 'Downtown Toronto', 'Railway Lands']\n",
      "Row 223: ['M5V', 'Downtown Toronto', 'South Niagara']\n",
      "Row 224: ['M6V', 'Not assigned', 'Not assigned']\n",
      "Row 225: ['M7V', 'Not assigned', 'Not assigned']\n",
      "Row 226: ['M8V', 'Etobicoke', 'Humber Bay Shores']\n",
      "Row 227: ['M8V', 'Etobicoke', 'Mimico South']\n",
      "Row 228: ['M8V', 'Etobicoke', 'New Toronto']\n",
      "Row 229: ['M9V', 'Etobicoke', 'Albion Gardens']\n",
      "Row 230: ['M9V', 'Etobicoke', 'Beaumond Heights']\n",
      "Row 231: ['M9V', 'Etobicoke', 'Humbergate']\n",
      "Row 232: ['M9V', 'Etobicoke', 'Jamestown']\n",
      "Row 233: ['M9V', 'Etobicoke', 'Mount Olive']\n",
      "Row 234: ['M9V', 'Etobicoke', 'Silverstone']\n",
      "Row 235: ['M9V', 'Etobicoke', 'South Steeles']\n",
      "Row 236: ['M9V', 'Etobicoke', 'Thistletown']\n",
      "Row 237: ['M1W', 'Scarborough', \"L'Amoreaux West\"]\n",
      "Row 238: ['M2W', 'Not assigned', 'Not assigned']\n",
      "Row 239: ['M3W', 'Not assigned', 'Not assigned']\n",
      "Row 240: ['M4W', 'Downtown Toronto', 'Rosedale']\n",
      "Row 241: ['M5W', 'Downtown Toronto', 'Stn A PO Boxes 25 The Esplanade']\n",
      "Row 242: ['M6W', 'Not assigned', 'Not assigned']\n",
      "Row 243: ['M7W', 'Not assigned', 'Not assigned']\n",
      "Row 244: ['M8W', 'Etobicoke', 'Alderwood']\n",
      "Row 245: ['M8W', 'Etobicoke', 'Long Branch']\n",
      "Row 246: ['M9W', 'Etobicoke', 'Northwest']\n",
      "Row 247: ['M1X', 'Scarborough', 'Upper Rouge']\n",
      "Row 248: ['M2X', 'Not assigned', 'Not assigned']\n",
      "Row 249: ['M3X', 'Not assigned', 'Not assigned']\n",
      "Row 250: ['M4X', 'Downtown Toronto', 'Cabbagetown']\n",
      "Row 251: ['M4X', 'Downtown Toronto', 'St. James Town']\n",
      "Row 252: ['M5X', 'Downtown Toronto', 'First Canadian Place']\n",
      "Row 253: ['M5X', 'Downtown Toronto', 'Underground city']\n",
      "Row 254: ['M6X', 'Not assigned', 'Not assigned']\n",
      "Row 255: ['M7X', 'Not assigned', 'Not assigned']\n",
      "Row 256: ['M8X', 'Etobicoke', 'The Kingsway']\n",
      "Row 257: ['M8X', 'Etobicoke', 'Montgomery Road']\n",
      "Row 258: ['M8X', 'Etobicoke', 'Old Mill North']\n",
      "Row 259: ['M9X', 'Not assigned', 'Not assigned']\n",
      "Row 260: ['M1Y', 'Not assigned', 'Not assigned']\n",
      "Row 261: ['M2Y', 'Not assigned', 'Not assigned']\n",
      "Row 262: ['M3Y', 'Not assigned', 'Not assigned']\n",
      "Row 263: ['M4Y', 'Downtown Toronto', 'Church and Wellesley']\n",
      "Row 264: ['M5Y', 'Not assigned', 'Not assigned']\n",
      "Row 265: ['M6Y', 'Not assigned', 'Not assigned']\n",
      "Row 266: ['M7Y', 'East Toronto', 'Business Reply Mail Processing Centre 969 Eastern']\n",
      "Row 267: ['M8Y', 'Etobicoke', 'Humber Bay']\n",
      "Row 268: ['M8Y', 'Etobicoke', \"King's Mill Park\"]\n",
      "Row 269: ['M8Y', 'Etobicoke', 'Kingsway Park South East']\n",
      "Row 270: ['M8Y', 'Etobicoke', 'Mimico NE']\n",
      "Row 271: ['M8Y', 'Etobicoke', 'Old Mill South']\n",
      "Row 272: ['M8Y', 'Etobicoke', 'The Queensway East']\n",
      "Row 273: ['M8Y', 'Etobicoke', 'Royal York South East']\n",
      "Row 274: ['M8Y', 'Etobicoke', 'Sunnylea']\n",
      "Row 275: ['M9Y', 'Not assigned', 'Not assigned']\n",
      "Row 276: ['M1Z', 'Not assigned', 'Not assigned']\n",
      "Row 277: ['M2Z', 'Not assigned', 'Not assigned']\n",
      "Row 278: ['M3Z', 'Not assigned', 'Not assigned']\n",
      "Row 279: ['M4Z', 'Not assigned', 'Not assigned']\n",
      "Row 280: ['M5Z', 'Not assigned', 'Not assigned']\n",
      "Row 281: ['M6Z', 'Not assigned', 'Not assigned']\n",
      "Row 282: ['M7Z', 'Not assigned', 'Not assigned']\n",
      "Row 283: ['M8Z', 'Etobicoke', 'Kingsway Park South West']\n",
      "Row 284: ['M8Z', 'Etobicoke', 'Mimico NW']\n",
      "Row 285: ['M8Z', 'Etobicoke', 'The Queensway West']\n",
      "Row 286: ['M8Z', 'Etobicoke', 'Royal York South West']\n",
      "Row 287: ['M8Z', 'Etobicoke', 'South of Bloor']\n",
      "Row 288: ['M9Z', 'Not assigned', 'Not assigned']\n"
     ]
    }
   ],
   "source": [
    "# extract table rows\n",
    "for rIndex, row in enumerate(table_rows):\n",
    "    if rIndex > 0:\n",
    "        row_content = [td.text.strip('\\n') for td in row.find_all('td')]   # 'td' is the table cell tag\n",
    "        print(f'Row {rIndex}: {row_content}')"
   ]
  },
  {
   "cell_type": "markdown",
   "metadata": {},
   "source": [
    "### 1.2. Loading data into a DataFrame\n",
    "\n",
    "Create a Pandas dataframe to store all rows as shown above and use the headline row to name the columns."
   ]
  },
  {
   "cell_type": "code",
   "execution_count": 148,
   "metadata": {
    "scrolled": true
   },
   "outputs": [],
   "source": [
    "lstRow = []\n",
    "# extract table rows\n",
    "for rIndex, row in enumerate(table_rows):\n",
    "    if rIndex > 0:\n",
    "        row_content = [td.text.strip('\\n') for td in row.find_all('td')]\n",
    "        lstRow.append(row_content)\n",
    "        #print(f'Row {rIndex}: {row_content}')"
   ]
  },
  {
   "cell_type": "code",
   "execution_count": 149,
   "metadata": {},
   "outputs": [
    {
     "data": {
      "text/plain": [
       "(288, 3)"
      ]
     },
     "execution_count": 149,
     "metadata": {},
     "output_type": "execute_result"
    }
   ],
   "source": [
    "import pandas as pd\n",
    "df_tnt = pd.DataFrame(lstRow, columns=columns)\n",
    "df_tnt.shape"
   ]
  },
  {
   "cell_type": "code",
   "execution_count": 150,
   "metadata": {},
   "outputs": [
    {
     "data": {
      "text/plain": [
       "180"
      ]
     },
     "execution_count": 150,
     "metadata": {},
     "output_type": "execute_result"
    }
   ],
   "source": [
    "df_tnt.Postcode.nunique()  # how many unique Postcodes are seen in the table including the assigned ones"
   ]
  },
  {
   "cell_type": "code",
   "execution_count": 151,
   "metadata": {},
   "outputs": [
    {
     "data": {
      "text/html": [
       "<div>\n",
       "<style scoped>\n",
       "    .dataframe tbody tr th:only-of-type {\n",
       "        vertical-align: middle;\n",
       "    }\n",
       "\n",
       "    .dataframe tbody tr th {\n",
       "        vertical-align: top;\n",
       "    }\n",
       "\n",
       "    .dataframe thead th {\n",
       "        text-align: right;\n",
       "    }\n",
       "</style>\n",
       "<table border=\"1\" class=\"dataframe\">\n",
       "  <thead>\n",
       "    <tr style=\"text-align: right;\">\n",
       "      <th></th>\n",
       "      <th>Postcode</th>\n",
       "      <th>Borough</th>\n",
       "      <th>Neighbourhood</th>\n",
       "    </tr>\n",
       "  </thead>\n",
       "  <tbody>\n",
       "    <tr>\n",
       "      <th>0</th>\n",
       "      <td>M1A</td>\n",
       "      <td>Not assigned</td>\n",
       "      <td>Not assigned</td>\n",
       "    </tr>\n",
       "    <tr>\n",
       "      <th>1</th>\n",
       "      <td>M2A</td>\n",
       "      <td>Not assigned</td>\n",
       "      <td>Not assigned</td>\n",
       "    </tr>\n",
       "    <tr>\n",
       "      <th>2</th>\n",
       "      <td>M3A</td>\n",
       "      <td>North York</td>\n",
       "      <td>Parkwoods</td>\n",
       "    </tr>\n",
       "    <tr>\n",
       "      <th>3</th>\n",
       "      <td>M4A</td>\n",
       "      <td>North York</td>\n",
       "      <td>Victoria Village</td>\n",
       "    </tr>\n",
       "    <tr>\n",
       "      <th>4</th>\n",
       "      <td>M5A</td>\n",
       "      <td>Downtown Toronto</td>\n",
       "      <td>Harbourfront</td>\n",
       "    </tr>\n",
       "  </tbody>\n",
       "</table>\n",
       "</div>"
      ],
      "text/plain": [
       "  Postcode           Borough     Neighbourhood\n",
       "0      M1A      Not assigned      Not assigned\n",
       "1      M2A      Not assigned      Not assigned\n",
       "2      M3A        North York         Parkwoods\n",
       "3      M4A        North York  Victoria Village\n",
       "4      M5A  Downtown Toronto      Harbourfront"
      ]
     },
     "execution_count": 151,
     "metadata": {},
     "output_type": "execute_result"
    }
   ],
   "source": [
    "df_tnt.head()"
   ]
  },
  {
   "cell_type": "markdown",
   "metadata": {},
   "source": [
    "### 1.3. Clean and Shape the DataFrame\n",
    "\n",
    "#### 1.3.1. Remove rows without borough assigned\n",
    "\n",
    "\"Only process the cells that have an assigned borough. Ignore cells with a borough that is **Not assigned**.\""
   ]
  },
  {
   "cell_type": "code",
   "execution_count": 152,
   "metadata": {},
   "outputs": [
    {
     "data": {
      "text/plain": [
       "(211, 3)"
      ]
     },
     "execution_count": 152,
     "metadata": {},
     "output_type": "execute_result"
    }
   ],
   "source": [
    "df_tnt_clean = df_tnt[df_tnt['Borough']!='Not assigned']\n",
    "df_tnt_clean.shape"
   ]
  },
  {
   "cell_type": "code",
   "execution_count": 153,
   "metadata": {},
   "outputs": [
    {
     "data": {
      "text/plain": [
       "103"
      ]
     },
     "execution_count": 153,
     "metadata": {},
     "output_type": "execute_result"
    }
   ],
   "source": [
    "df_tnt_clean.Postcode.nunique()  # how many Postcodes assigned to boroughs"
   ]
  },
  {
   "cell_type": "code",
   "execution_count": 154,
   "metadata": {},
   "outputs": [
    {
     "data": {
      "text/html": [
       "<div>\n",
       "<style scoped>\n",
       "    .dataframe tbody tr th:only-of-type {\n",
       "        vertical-align: middle;\n",
       "    }\n",
       "\n",
       "    .dataframe tbody tr th {\n",
       "        vertical-align: top;\n",
       "    }\n",
       "\n",
       "    .dataframe thead th {\n",
       "        text-align: right;\n",
       "    }\n",
       "</style>\n",
       "<table border=\"1\" class=\"dataframe\">\n",
       "  <thead>\n",
       "    <tr style=\"text-align: right;\">\n",
       "      <th></th>\n",
       "      <th>Postcode</th>\n",
       "      <th>Borough</th>\n",
       "      <th>Neighbourhood</th>\n",
       "    </tr>\n",
       "  </thead>\n",
       "  <tbody>\n",
       "    <tr>\n",
       "      <th>2</th>\n",
       "      <td>M3A</td>\n",
       "      <td>North York</td>\n",
       "      <td>Parkwoods</td>\n",
       "    </tr>\n",
       "    <tr>\n",
       "      <th>3</th>\n",
       "      <td>M4A</td>\n",
       "      <td>North York</td>\n",
       "      <td>Victoria Village</td>\n",
       "    </tr>\n",
       "    <tr>\n",
       "      <th>4</th>\n",
       "      <td>M5A</td>\n",
       "      <td>Downtown Toronto</td>\n",
       "      <td>Harbourfront</td>\n",
       "    </tr>\n",
       "    <tr>\n",
       "      <th>5</th>\n",
       "      <td>M5A</td>\n",
       "      <td>Downtown Toronto</td>\n",
       "      <td>Regent Park</td>\n",
       "    </tr>\n",
       "    <tr>\n",
       "      <th>6</th>\n",
       "      <td>M6A</td>\n",
       "      <td>North York</td>\n",
       "      <td>Lawrence Heights</td>\n",
       "    </tr>\n",
       "  </tbody>\n",
       "</table>\n",
       "</div>"
      ],
      "text/plain": [
       "  Postcode           Borough     Neighbourhood\n",
       "2      M3A        North York         Parkwoods\n",
       "3      M4A        North York  Victoria Village\n",
       "4      M5A  Downtown Toronto      Harbourfront\n",
       "5      M5A  Downtown Toronto       Regent Park\n",
       "6      M6A        North York  Lawrence Heights"
      ]
     },
     "execution_count": 154,
     "metadata": {},
     "output_type": "execute_result"
    }
   ],
   "source": [
    "df_tnt_clean.head()"
   ]
  },
  {
   "cell_type": "markdown",
   "metadata": {},
   "source": [
    "#### 1.3.2. Update Neighbourhood names\n",
    "\n",
    "\"If a cell has a borough but a Not assigned neighborhood, then the neighborhood will be the same as the borough. So for the 9th cell in the table on the Wikipedia page, the value of the Borough and the Neighborhood columns will be Queen's Park.\""
   ]
  },
  {
   "cell_type": "code",
   "execution_count": 155,
   "metadata": {},
   "outputs": [
    {
     "data": {
      "text/html": [
       "<div>\n",
       "<style scoped>\n",
       "    .dataframe tbody tr th:only-of-type {\n",
       "        vertical-align: middle;\n",
       "    }\n",
       "\n",
       "    .dataframe tbody tr th {\n",
       "        vertical-align: top;\n",
       "    }\n",
       "\n",
       "    .dataframe thead th {\n",
       "        text-align: right;\n",
       "    }\n",
       "</style>\n",
       "<table border=\"1\" class=\"dataframe\">\n",
       "  <thead>\n",
       "    <tr style=\"text-align: right;\">\n",
       "      <th></th>\n",
       "      <th>Postcode</th>\n",
       "      <th>Borough</th>\n",
       "      <th>Neighbourhood</th>\n",
       "    </tr>\n",
       "  </thead>\n",
       "  <tbody>\n",
       "    <tr>\n",
       "      <th>8</th>\n",
       "      <td>M7A</td>\n",
       "      <td>Queen's Park</td>\n",
       "      <td>Not assigned</td>\n",
       "    </tr>\n",
       "  </tbody>\n",
       "</table>\n",
       "</div>"
      ],
      "text/plain": [
       "  Postcode       Borough Neighbourhood\n",
       "8      M7A  Queen's Park  Not assigned"
      ]
     },
     "execution_count": 155,
     "metadata": {},
     "output_type": "execute_result"
    }
   ],
   "source": [
    "# Check the neighbors that need to be renamed\n",
    "df_empty_neighbor = df_tnt_clean[df_tnt_clean['Neighbourhood']=='Not assigned']\n",
    "df_empty_neighbor"
   ]
  },
  {
   "cell_type": "code",
   "execution_count": 156,
   "metadata": {},
   "outputs": [
    {
     "name": "stderr",
     "output_type": "stream",
     "text": [
      "C:\\WPy-3662\\python-3.6.6.amd64\\lib\\site-packages\\ipykernel_launcher.py:7: SettingWithCopyWarning: \n",
      "A value is trying to be set on a copy of a slice from a DataFrame.\n",
      "Try using .loc[row_indexer,col_indexer] = value instead\n",
      "\n",
      "See the caveats in the documentation: http://pandas.pydata.org/pandas-docs/stable/indexing.html#indexing-view-versus-copy\n",
      "  import sys\n"
     ]
    }
   ],
   "source": [
    "def replace_name(x, y):\n",
    "    if x == 'Not assigned':\n",
    "        return y\n",
    "    else:\n",
    "        return x\n",
    "\n",
    "df_tnt_clean['Neighbourhood'] = df_tnt_clean.apply(lambda x : replace_name(x.Neighbourhood, x.Borough), axis=1)\n",
    "#df_tnt_clean.loc[df_tnt_clean.Neighbourhood=='Not assigned', 'Neighbourhood']=df_tnt_clean['Borough']"
   ]
  },
  {
   "cell_type": "code",
   "execution_count": 157,
   "metadata": {},
   "outputs": [
    {
     "data": {
      "text/html": [
       "<div>\n",
       "<style scoped>\n",
       "    .dataframe tbody tr th:only-of-type {\n",
       "        vertical-align: middle;\n",
       "    }\n",
       "\n",
       "    .dataframe tbody tr th {\n",
       "        vertical-align: top;\n",
       "    }\n",
       "\n",
       "    .dataframe thead th {\n",
       "        text-align: right;\n",
       "    }\n",
       "</style>\n",
       "<table border=\"1\" class=\"dataframe\">\n",
       "  <thead>\n",
       "    <tr style=\"text-align: right;\">\n",
       "      <th></th>\n",
       "      <th>Postcode</th>\n",
       "      <th>Borough</th>\n",
       "      <th>Neighbourhood</th>\n",
       "    </tr>\n",
       "  </thead>\n",
       "  <tbody>\n",
       "    <tr>\n",
       "      <th>2</th>\n",
       "      <td>M3A</td>\n",
       "      <td>North York</td>\n",
       "      <td>Parkwoods</td>\n",
       "    </tr>\n",
       "    <tr>\n",
       "      <th>3</th>\n",
       "      <td>M4A</td>\n",
       "      <td>North York</td>\n",
       "      <td>Victoria Village</td>\n",
       "    </tr>\n",
       "    <tr>\n",
       "      <th>4</th>\n",
       "      <td>M5A</td>\n",
       "      <td>Downtown Toronto</td>\n",
       "      <td>Harbourfront</td>\n",
       "    </tr>\n",
       "    <tr>\n",
       "      <th>5</th>\n",
       "      <td>M5A</td>\n",
       "      <td>Downtown Toronto</td>\n",
       "      <td>Regent Park</td>\n",
       "    </tr>\n",
       "    <tr>\n",
       "      <th>6</th>\n",
       "      <td>M6A</td>\n",
       "      <td>North York</td>\n",
       "      <td>Lawrence Heights</td>\n",
       "    </tr>\n",
       "    <tr>\n",
       "      <th>7</th>\n",
       "      <td>M6A</td>\n",
       "      <td>North York</td>\n",
       "      <td>Lawrence Manor</td>\n",
       "    </tr>\n",
       "    <tr>\n",
       "      <th>8</th>\n",
       "      <td>M7A</td>\n",
       "      <td>Queen's Park</td>\n",
       "      <td>Queen's Park</td>\n",
       "    </tr>\n",
       "    <tr>\n",
       "      <th>10</th>\n",
       "      <td>M9A</td>\n",
       "      <td>Etobicoke</td>\n",
       "      <td>Islington Avenue</td>\n",
       "    </tr>\n",
       "    <tr>\n",
       "      <th>11</th>\n",
       "      <td>M1B</td>\n",
       "      <td>Scarborough</td>\n",
       "      <td>Rouge</td>\n",
       "    </tr>\n",
       "    <tr>\n",
       "      <th>12</th>\n",
       "      <td>M1B</td>\n",
       "      <td>Scarborough</td>\n",
       "      <td>Malvern</td>\n",
       "    </tr>\n",
       "  </tbody>\n",
       "</table>\n",
       "</div>"
      ],
      "text/plain": [
       "   Postcode           Borough     Neighbourhood\n",
       "2       M3A        North York         Parkwoods\n",
       "3       M4A        North York  Victoria Village\n",
       "4       M5A  Downtown Toronto      Harbourfront\n",
       "5       M5A  Downtown Toronto       Regent Park\n",
       "6       M6A        North York  Lawrence Heights\n",
       "7       M6A        North York    Lawrence Manor\n",
       "8       M7A      Queen's Park      Queen's Park\n",
       "10      M9A         Etobicoke  Islington Avenue\n",
       "11      M1B       Scarborough             Rouge\n",
       "12      M1B       Scarborough           Malvern"
      ]
     },
     "execution_count": 157,
     "metadata": {},
     "output_type": "execute_result"
    }
   ],
   "source": [
    "df_tnt_clean.head(10) # double check M7A Queen's Park"
   ]
  },
  {
   "cell_type": "markdown",
   "metadata": {},
   "source": [
    "#### 1.3.3. Group Neighbourhoods by Postcode\n",
    "\n",
    "\"More than one neighborhood can exist in one postal code area. For example, in the table on the Wikipedia page, you will notice that M5A is listed twice and has two neighborhoods: Harbourfront and Regent Park. These two rows will be combined into one row with the neighborhoods separated with a comma as shown in row 11 in the above table.\""
   ]
  },
  {
   "cell_type": "code",
   "execution_count": 158,
   "metadata": {},
   "outputs": [],
   "source": [
    "# Option 1\n",
    "#df_tnt_unique = df_tnt_clean.groupby(['Postcode', 'Borough'])['Neighbourhood'].apply(lambda x: ','.join(x)).reset_index()\n",
    "# Option 2\n",
    "df_tnt_unique = df_tnt_clean.groupby(['Postcode', 'Borough'])['Neighbourhood'].apply(','.join).reset_index()"
   ]
  },
  {
   "cell_type": "code",
   "execution_count": 159,
   "metadata": {},
   "outputs": [
    {
     "data": {
      "text/html": [
       "<div>\n",
       "<style scoped>\n",
       "    .dataframe tbody tr th:only-of-type {\n",
       "        vertical-align: middle;\n",
       "    }\n",
       "\n",
       "    .dataframe tbody tr th {\n",
       "        vertical-align: top;\n",
       "    }\n",
       "\n",
       "    .dataframe thead th {\n",
       "        text-align: right;\n",
       "    }\n",
       "</style>\n",
       "<table border=\"1\" class=\"dataframe\">\n",
       "  <thead>\n",
       "    <tr style=\"text-align: right;\">\n",
       "      <th></th>\n",
       "      <th>Postcode</th>\n",
       "      <th>Borough</th>\n",
       "      <th>Neighbourhood</th>\n",
       "    </tr>\n",
       "  </thead>\n",
       "  <tbody>\n",
       "    <tr>\n",
       "      <th>0</th>\n",
       "      <td>M1B</td>\n",
       "      <td>Scarborough</td>\n",
       "      <td>Rouge,Malvern</td>\n",
       "    </tr>\n",
       "    <tr>\n",
       "      <th>1</th>\n",
       "      <td>M1C</td>\n",
       "      <td>Scarborough</td>\n",
       "      <td>Highland Creek,Rouge Hill,Port Union</td>\n",
       "    </tr>\n",
       "    <tr>\n",
       "      <th>2</th>\n",
       "      <td>M1E</td>\n",
       "      <td>Scarborough</td>\n",
       "      <td>Guildwood,Morningside,West Hill</td>\n",
       "    </tr>\n",
       "    <tr>\n",
       "      <th>3</th>\n",
       "      <td>M1G</td>\n",
       "      <td>Scarborough</td>\n",
       "      <td>Woburn</td>\n",
       "    </tr>\n",
       "    <tr>\n",
       "      <th>4</th>\n",
       "      <td>M1H</td>\n",
       "      <td>Scarborough</td>\n",
       "      <td>Cedarbrae</td>\n",
       "    </tr>\n",
       "  </tbody>\n",
       "</table>\n",
       "</div>"
      ],
      "text/plain": [
       "  Postcode      Borough                         Neighbourhood\n",
       "0      M1B  Scarborough                         Rouge,Malvern\n",
       "1      M1C  Scarborough  Highland Creek,Rouge Hill,Port Union\n",
       "2      M1E  Scarborough       Guildwood,Morningside,West Hill\n",
       "3      M1G  Scarborough                                Woburn\n",
       "4      M1H  Scarborough                             Cedarbrae"
      ]
     },
     "execution_count": 159,
     "metadata": {},
     "output_type": "execute_result"
    }
   ],
   "source": [
    "df_tnt_unique.head()"
   ]
  },
  {
   "cell_type": "markdown",
   "metadata": {},
   "source": [
    "**The final dataframe is here.**"
   ]
  },
  {
   "cell_type": "code",
   "execution_count": 160,
   "metadata": {},
   "outputs": [
    {
     "data": {
      "text/plain": [
       "(103, 3)"
      ]
     },
     "execution_count": 160,
     "metadata": {},
     "output_type": "execute_result"
    }
   ],
   "source": [
    "df_tnt_unique.shape"
   ]
  },
  {
   "cell_type": "markdown",
   "metadata": {},
   "source": [
    "### This is the end of Assignment Task 1"
   ]
  },
  {
   "cell_type": "markdown",
   "metadata": {},
   "source": [
    "<a name=\"Q2\"></a>\n",
    "## 2. Obtain Latitude and Longitude information\n",
    "[Back to ToC](#toc)"
   ]
  },
  {
   "cell_type": "markdown",
   "metadata": {},
   "source": [
    "### This is the end of Task 2"
   ]
  },
  {
   "cell_type": "markdown",
   "metadata": {},
   "source": [
    "<a name=\"Q3\"></a>\n",
    "## 3. Explore and Cluster the neighbourhoods in Toronto\n",
    "[Back to ToC](#toc)"
   ]
  },
  {
   "cell_type": "markdown",
   "metadata": {},
   "source": [
    "#### This is the end of Task 3."
   ]
  },
  {
   "cell_type": "markdown",
   "metadata": {},
   "source": [
    "<a name=\"end\"></a>\n",
    "## End of Notebook\n",
    "[Back](#toc)"
   ]
  },
  {
   "cell_type": "code",
   "execution_count": null,
   "metadata": {},
   "outputs": [],
   "source": []
  }
 ],
 "metadata": {
  "kernelspec": {
   "display_name": "Python 3",
   "language": "python",
   "name": "python3"
  },
  "language_info": {
   "codemirror_mode": {
    "name": "ipython",
    "version": 3
   },
   "file_extension": ".py",
   "mimetype": "text/x-python",
   "name": "python",
   "nbconvert_exporter": "python",
   "pygments_lexer": "ipython3",
   "version": "3.6.6"
  }
 },
 "nbformat": 4,
 "nbformat_minor": 2
}
