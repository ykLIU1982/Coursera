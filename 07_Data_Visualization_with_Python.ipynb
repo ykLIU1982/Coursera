{
 "cells": [
  {
   "cell_type": "markdown",
   "metadata": {},
   "source": [
    "# Data Visualization with Python\n"
   ]
  },
  {
   "cell_type": "markdown",
   "metadata": {},
   "source": [
    "## Week 1 Introduction to Visualization Tools\n",
    "\n",
    "In this module, you will learn about data visualization and some of the best practices to keep in mind when creating plots and visuals. You will also learn about the history and the architecture of Matplotlib and learn about basic plotting with Matplotlib. In addition, you will learn about the dataset on immigration to Canada, which will be used extensively throughout the course. Finally, you will briefly learn how to read csv files into a pandas dataframe and process and manipulate the data in the dataframe, and how to generate line plots using Matplotlib.\n",
    "\n",
    "### Learning Objectives\n",
    "* Learn about data visualization and some of the best practices to keep in mind when creating plots and visuals.\n",
    "* Learn about the history and the architecture of Matplotlib.\n",
    "* Learn about basic plotting with Matplotlib.\n",
    "* Learn about the dataset on immigration to Canada, which will be used extensively throughout the course.\n",
    "* Briefly learn how to read csv files into a pandas dataframe and process and manipulate the data in the dataframe.\n",
    "* Learn how to generate line plots using Matplotlib.\n",
    "\n",
    "\n",
    "* Video: Welcome (w1_00)\n",
    "* Video: Introduction to Visualization Tools (w1_01)\n",
    "* Video: Introduction to Matplotlib (w1_02)\n",
    "* Video: Basic Plotting with Matplotlib (w1_03)\n",
    "* Video: Dataset on Immigration to Canada (w1_04)\n",
    "* Video: Line Plots (w1_05)\n",
    "* Lab:"
   ]
  },
  {
   "cell_type": "markdown",
   "metadata": {},
   "source": [
    "## Week 2 Basic and Specialized Visualization Tools\n",
    "\n",
    "In this module, you learn about area plots and how to create them with Matplotlib, histograms and how to create them with Matplotlib, bar charts, and how to create them with Matplotlib, pie charts, and how to create them with Matplotlib, box plots and how to create them with Matplotlib, and scatter plots and bubble plots and how to create them with Matplotlib.\n",
    "\n",
    "### Learning Objectives\n",
    "* Learn about area plots, and how to create them with Matplotlib.\n",
    "* Learn about histograms, and how to create them with Matplotlib.\n",
    "* Learn about bar charts, and how to create them with Matplotlib.\n",
    "* Learn about pie charts, and how to create them with Matplotlib.\n",
    "* Learn about box plots, and how to create them with Matplotlib.\n",
    "* Learn about scatter plots and bubble plots, and how to create them with Matplotlib.\n",
    "\n",
    "#### Basic Visualization Tools\n",
    "* Video: Area Plots (w2_01)\n",
    "* Video: Histograms (w2_02)\n",
    "* Video: Bar Charts (w2_03)\n",
    "* Lab:\n",
    "\n",
    "#### Specialized Visualization Tools\n",
    "* Video: Pie Charts (w2_04)\n",
    "* Video: Box Plots (w2_05)\n",
    "* Video: Scatter Plots (w2_06)\n",
    "* Lab: "
   ]
  },
  {
   "cell_type": "markdown",
   "metadata": {},
   "source": [
    "## Week 3\n",
    "\n",
    "In this module, you will learn about advanced visualization tools such as waffle charts and word clouds and how to create them. You will also learn about seaborn, which is another visualization library, and how to use it to generate attractive regression plots. In addition, you will learn about Folium, which is another visualization library, designed especially for visualizing geospatial data. Finally, you will learn how to use Folium to create maps of different regions of the world and how to superimpose markers on top of a map, and how to create choropleth maps.\n",
    "\n",
    "### Learning Objectives\n",
    "* Learn about advanced visualization tools such as waffle charts and word clouds, and how to create them.\n",
    "* Learn about seaborn, which is another visualization library, and how to use it to generate attractive regression plots.\n",
    "* Learn about Folium, which is another visualization library, designed especially for visualizing geospatial data.\n",
    "* Learn how to use Folium to create maps of different regions of the world and how to superimpose markers on top of a map.\n",
    "* Learn how to use Folium to create choropleth maps.\n",
    "\n",
    "#### Advanced Visualization Tools\n",
    "* Video: Waffle Charts (w3_01)\n",
    "* Video: Word Clouds (w3_02)\n",
    "* Video: Seaborn and Regression Plots (w3_03)\n",
    "* Lab:\n",
    "\n",
    "#### Visualizing Geospatial Data\n",
    "* Video: Introduction to Folium (w3_04)\n",
    "* Video: Maps with Markers (w3_05)\n",
    "* Video: Choropleth Maps (w3_06)\n",
    "* Lab:\n"
   ]
  },
  {
   "cell_type": "markdown",
   "metadata": {},
   "source": [
    "## Final Assignment\n",
    "\n",
    "### Instructions\n",
    "\n",
    "In this Assignment, you will demonstrate the data visualization skills your learned by completing this course. You will be required to generate two visualization plots. The first one will be a plot to summarize the results of a survey that was conducted to gauge an audience interest in different data science topics. The second plot is a Choropleth map of the crime crate in San Francisco.\n",
    "\n",
    "https://cocl.us/datascience_survey_data"
   ]
  },
  {
   "cell_type": "code",
   "execution_count": null,
   "metadata": {},
   "outputs": [],
   "source": []
  }
 ],
 "metadata": {
  "kernelspec": {
   "display_name": "Python 3",
   "language": "python",
   "name": "python3"
  },
  "language_info": {
   "codemirror_mode": {
    "name": "ipython",
    "version": 3
   },
   "file_extension": ".py",
   "mimetype": "text/x-python",
   "name": "python",
   "nbconvert_exporter": "python",
   "pygments_lexer": "ipython3",
   "version": "3.6.6"
  }
 },
 "nbformat": 4,
 "nbformat_minor": 2
}
