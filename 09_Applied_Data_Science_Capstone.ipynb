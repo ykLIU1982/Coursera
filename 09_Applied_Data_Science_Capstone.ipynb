{
 "cells": [
  {
   "cell_type": "markdown",
   "metadata": {},
   "source": [
    "# Applied Data Science Capstone"
   ]
  },
  {
   "cell_type": "markdown",
   "metadata": {},
   "source": [
    "## Week 1 Introduction \n",
    "\n",
    "In this module, you will learn about the scope of this capstone course and the context of the project that you will be working on. You will learn about different location data providers and what location data is normally composed of. Finally, you will be required to submit a link to a new repository on your Github account dedicated to this course.\n",
    "\n",
    "### Learning Objectives\n",
    "* Learn about the capstone project and the different tools and skills that you will learn in this course.\n",
    "* Learn about the different location data providers and what location data is composed of.\n",
    "* Learn how to sign up on Watson Studio, and how to create a project, start a notebook, and share the notebook.\n",
    "* Create a project on Watson Studio, create a project, start a notebook and share it with your peers.\n",
    "\n",
    "#### Introduction to Capstone Project\n",
    "* Video: Introduction (w1_01)\n",
    "\n",
    "#### Location Data Providers\n",
    "* Video: Location Data Providers (w1_02)\n",
    "\n",
    "#### Assignment - Capstone Project Notebook\n",
    "In this assignment, you will be asked to create a new repository on your Github account, and to create a Jupyter Notebook and submit a shareable link to it for peer evaluation.\n",
    "\n",
    "Create a new repository on your Github account and name it Coursera_Capstone. I have prepared a guide to walk you through the process of creating a repository and setting it up. For Mac users, click [here](https://medium.com/@aklson_DS/how-to-properly-setup-your-github-repository-mac-version-3a8047b899e5). For Windows users, click [here](https://medium.com/@aklson_DS/how-to-properly-setup-your-github-repository-windows-version-ea596b398b).\n",
    "\n",
    "Guide to GitHub repository\n",
    "* How to Properly Setup Your Github Repository — Mac Version\n",
    "* How to Properly Setup Your Github Repository — Windows Version"
   ]
  },
  {
   "cell_type": "markdown",
   "metadata": {},
   "source": [
    "## Week 2 Foursquare API \n",
    "\n",
    "In this module, you will learn in details about Foursquare, which is the location data provider we will be using in this course, and its API. Essentially, you will learn how to create a Foursquare developer account, and use your credentials to search for nearby venues of a specific type, explore a particular venue, and search for trending venues around a location.\n",
    "\n",
    "### Learning Objectives\n",
    "* Learn about Foursquare and its API.\n",
    "* Learn how to create a Foursquare developer account.\n",
    "* Create a Foursquare developer account.\n",
    "* Learn how to use the Foursquare API to search for a specific type of venues, explore a given venue, and search for trending venue around a location.\n",
    "* Complete a lab to better understand how to make calls to the Foursquare API and retrieve location data from its database.\n",
    "\n",
    "#### Introduction to Foursquare\n",
    "* Video: Introduction to Foursquare (w2_01)\n",
    "\n",
    "#### Getting Foursquare API Credentials\n",
    "* Video: Signing up for a Foursquare Developer Account (w2_02)\n",
    "\n",
    "#### Using Foursquare API\n",
    "* Video: Foursquare - Search (w2_03)\n",
    "* Video: Foursquare - Explore and Other Queries (w2_04)\n",
    "* Video: Foursquare - Summary (w2_05)\n",
    "\n",
    "* Lab\n",
    "\n"
   ]
  },
  {
   "cell_type": "markdown",
   "metadata": {},
   "source": [
    "## Week 3 Neighborhood Segmentation and Clustering \n",
    "\n",
    "In this module, you will learn about k-means clustering, which is a form of unsupervised learning. Then you will use clustering and the Foursquare API to segment and cluster the neighborhoods in the city of New York. Furthermore, you will learn how to scrape website and parse HTML code using the Python package Beautifulsoup, and convert data into a pandas dataframe.\n",
    "\n",
    "### Learning Objectives\n",
    "* Learn about clustering and k-means clustering in particular.\n",
    "* Learn how to use the Foursquare API and clustering to segment and cluster the neighborhoods in New York City.\n",
    "* Learn how to use the Beautifulsoup Python package to scrape websites and parse HTML code.\n",
    "* Apply the skills acquired so far in this course to segment and cluster neighborhoods in the city of Toronto.\n",
    "\n",
    "#### Clustering\n",
    "* Video: Introduction to Clustering (w3_01)\n",
    "* Video: k-Means Clustering (w3_02)\n",
    "* Lab: Clustering\n",
    "\n",
    "#### Lab: Segmenting and Clustering Neighborhoods in New York City\n",
    "\n",
    "\n",
    "\n",
    "#### Lab: Segmenting and Clustering Neighborhoods in the city of Toronto, Canada\n",
    "\n"
   ]
  },
  {
   "cell_type": "markdown",
   "metadata": {},
   "source": [
    "## Week 4&5 The Battle of Neighborhoods\n",
    "\n",
    "In this module, you will start working on the capstone project. You will clearly define a problem and discuss the data that you will be using to solve the problem.\n",
    "\n",
    "### Learning Objectives\n",
    "* Define a problem for your capstone project.\n",
    "* Discuss the data that you will use to solve the problem.\n",
    "\n",
    "### Capstone Project\n"
   ]
  }
 ],
 "metadata": {
  "kernelspec": {
   "display_name": "Python 3",
   "language": "python",
   "name": "python3"
  },
  "language_info": {
   "codemirror_mode": {
    "name": "ipython",
    "version": 3
   },
   "file_extension": ".py",
   "mimetype": "text/x-python",
   "name": "python",
   "nbconvert_exporter": "python",
   "pygments_lexer": "ipython3",
   "version": "3.6.6"
  }
 },
 "nbformat": 4,
 "nbformat_minor": 2
}
